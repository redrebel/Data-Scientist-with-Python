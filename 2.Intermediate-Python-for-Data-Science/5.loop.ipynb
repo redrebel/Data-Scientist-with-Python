{
 "cells": [
  {
   "cell_type": "markdown",
   "metadata": {},
   "source": [
    "### Basic while loop ###"
   ]
  },
  {
   "cell_type": "code",
   "execution_count": 1,
   "metadata": {},
   "outputs": [
    {
     "name": "stdout",
     "output_type": "stream",
     "text": [
      "correcting...\n",
      "7\n",
      "correcting...\n",
      "6\n",
      "correcting...\n",
      "5\n",
      "correcting...\n",
      "4\n",
      "correcting...\n",
      "3\n",
      "correcting...\n",
      "2\n",
      "correcting...\n",
      "1\n",
      "correcting...\n",
      "0\n"
     ]
    }
   ],
   "source": [
    "# Initialize offset\n",
    "offset = 8\n",
    "\n",
    "# Code the while loop\n",
    "while offset != 0 :\n",
    "    print(\"correcting...\")\n",
    "    offset = offset - 1\n",
    "    print(offset)"
   ]
  },
  {
   "cell_type": "markdown",
   "metadata": {},
   "source": [
    "### Add conditionals ###"
   ]
  },
  {
   "cell_type": "code",
   "execution_count": 2,
   "metadata": {},
   "outputs": [
    {
     "name": "stdout",
     "output_type": "stream",
     "text": [
      "correcting...\n",
      "-5\n",
      "correcting...\n",
      "-4\n",
      "correcting...\n",
      "-3\n",
      "correcting...\n",
      "-2\n",
      "correcting...\n",
      "-1\n",
      "correcting...\n",
      "0\n"
     ]
    }
   ],
   "source": [
    "# Initialize offset\n",
    "offset = -6\n",
    "\n",
    "# Code the while loop\n",
    "while offset != 0 :\n",
    "    print(\"correcting...\")\n",
    "    if offset > 0 :\n",
    "        offset = offset - 1\n",
    "    else :\n",
    "        offset = offset + 1\n",
    "    print(offset)"
   ]
  },
  {
   "cell_type": "markdown",
   "metadata": {},
   "source": [
    "### Loop over a list###"
   ]
  },
  {
   "cell_type": "code",
   "execution_count": 3,
   "metadata": {},
   "outputs": [
    {
     "name": "stdout",
     "output_type": "stream",
     "text": [
      "11.25\n",
      "18.0\n",
      "20.0\n",
      "10.75\n",
      "9.5\n"
     ]
    }
   ],
   "source": [
    "# areas list\n",
    "areas = [11.25, 18.0, 20.0, 10.75, 9.50]\n",
    "\n",
    "# Code the for loop\n",
    "for area in areas :\n",
    "    print(str(area))"
   ]
  },
  {
   "cell_type": "markdown",
   "metadata": {},
   "source": [
    "### Indexes and values ###"
   ]
  },
  {
   "cell_type": "code",
   "execution_count": 4,
   "metadata": {},
   "outputs": [
    {
     "name": "stdout",
     "output_type": "stream",
     "text": [
      "room 0: 11.25\n",
      "room 1: 18.0\n",
      "room 2: 20.0\n",
      "room 3: 10.75\n",
      "room 4: 9.5\n"
     ]
    }
   ],
   "source": [
    "# areas list\n",
    "areas = [11.25, 18.0, 20.0, 10.75, 9.50]\n",
    "\n",
    "# Change for loop to use enumerate()\n",
    "for index, a in enumerate(areas) :\n",
    "    print(\"room \" + str(index)+\": \" + str(a))"
   ]
  },
  {
   "cell_type": "markdown",
   "metadata": {},
   "source": [
    "### Loop over list of lists ###"
   ]
  },
  {
   "cell_type": "code",
   "execution_count": 5,
   "metadata": {},
   "outputs": [
    {
     "name": "stdout",
     "output_type": "stream",
     "text": [
      "the hallway is 11.25 sqm\n",
      "the kitchen is 18.0 sqm\n",
      "the living room is 20.0 sqm\n",
      "the bedroom is 10.75 sqm\n",
      "the bathroom is 9.5 sqm\n"
     ]
    }
   ],
   "source": [
    "# house list of lists\n",
    "house = [[\"hallway\", 11.25], \n",
    "         [\"kitchen\", 18.0], \n",
    "         [\"living room\", 20.0], \n",
    "         [\"bedroom\", 10.75], \n",
    "         [\"bathroom\", 9.50]]\n",
    "         \n",
    "# Build a for loop from scratch\n",
    "for x, y in house :\n",
    "    print(\"the \" + x + \" is \" + str(y) + \" sqm\")"
   ]
  },
  {
   "cell_type": "markdown",
   "metadata": {},
   "source": [
    "### Loop over dictionary ###"
   ]
  },
  {
   "cell_type": "code",
   "execution_count": 2,
   "metadata": {},
   "outputs": [
    {
     "name": "stdout",
     "output_type": "stream",
     "text": [
      "the capital of spain is madrid\n",
      "the capital of france is paris\n",
      "the capital of germany is bonn\n",
      "the capital of norway is oslo\n",
      "the capital of italy is rome\n",
      "the capital of poland is warsaw\n",
      "the capital of australia is vienna\n"
     ]
    }
   ],
   "source": [
    "# Definition of dictionary\n",
    "europe = {'spain':'madrid', 'france':'paris', 'germany':'bonn', \n",
    "          'norway':'oslo', 'italy':'rome', 'poland':'warsaw', 'australia':'vienna' }\n",
    "          \n",
    "# Iterate over europe\n",
    "for keys, item in europe.items():\n",
    "    print(\"the capital of \" + keys + \" is \" + item)"
   ]
  },
  {
   "cell_type": "markdown",
   "metadata": {},
   "source": [
    "### Loop over Numpy array ###"
   ]
  },
  {
   "cell_type": "code",
   "execution_count": 5,
   "metadata": {},
   "outputs": [
    {
     "name": "stdout",
     "output_type": "stream",
     "text": [
      "[74 74 72 ..., 75 75 73]\n",
      "[[ 74 180]\n",
      " [ 74 215]\n",
      " [ 72 210]\n",
      " ..., \n",
      " [ 75 205]\n",
      " [ 75 190]\n",
      " [ 73 195]]\n"
     ]
    }
   ],
   "source": [
    "import numpy as np\n",
    "# height is available as a regular list\n",
    "height = [74, 74, 72, 72, 73, 69, 69, 71, 76, 71, 73, 73, 74, 74, 69, 70, 73, 75, 78, 79, 76, 74, 76, 72, 71, 75, 77, 74, 73, 74, 78, 73, 75, 73, 75, 75, 74, 69, 71, 74, 73, 73, 76, 74, 74, 70, 72, 77, 74, 70, 73, 75, 76, 76, 78, 74, 74, 76, 77, 81, 78, 75, 77, 75, 76, 74, 72, 72, 75, 73, 73, 73, 70, 70, 70, 76, 68, 71, 72, 75, 75, 75, 75, 68, 74, 78, 71, 73, 76, 74, 74, 79, 75, 73, 76, 74, 74, 73, 72, 74, 73, 74, 72, 73, 69, 72, 73, 75, 75, 73, 72, 72, 76, 74, 72, 77, 74, 77, 75, 76, 80, 74, 74, 75, 78, 73, 73, 74, 75, 76, 71, 73, 74, 76, 76, 74, 73, 74, 70, 72, 73, 73, 73, 73, 71, 74, 74, 72, 74, 71, 74, 73, 75, 75, 79, 73, 75, 76, 74, 76, 78, 74, 76, 72, 74, 76, 74, 75, 78, 75, 72, 74, 72, 74, 70, 71, 70, 75, 71, 71, 73, 72, 71, 73, 72, 75, 74, 74, 75, 73, 77, 73, 76, 75, 74, 76, 75, 73, 71, 76, 75, 72, 71, 77, 73, 74, 71, 72, 74, 75, 73, 72, 75, 75, 74, 72, 74, 71, 70, 74, 77, 77, 75, 75, 78, 75, 76, 73, 75, 75, 79, 77, 76, 71, 75, 74, 69, 71, 76, 72, 72, 70, 72, 73, 71, 72, 71, 73, 72, 73, 74, 74, 72, 75, 74, 74, 77, 75, 73, 72, 71, 74, 77, 75, 75, 75, 78, 78, 74, 76, 78, 76, 70, 72, 80, 74, 74, 71, 70, 72, 71, 74, 71, 72, 71, 74, 69, 76, 75, 75, 76, 73, 76, 73, 77, 73, 72, 72, 77, 77, 71, 74, 74, 73, 78, 75, 73, 70, 74, 72, 73, 73, 75, 75, 74, 76, 73, 74, 75, 75, 72, 73, 73, 72, 74, 78, 76, 73, 74, 75, 70, 75, 71, 72, 78, 75, 73, 73, 71, 75, 77, 72, 69, 73, 74, 72, 70, 75, 70, 72, 72, 74, 73, 74, 76, 75, 80, 72, 75, 73, 74, 74, 73, 75, 75, 71, 73, 75, 74, 74, 72, 74, 74, 74, 73, 76, 75, 72, 73, 73, 73, 72, 72, 72, 72, 71, 75, 75, 74, 73, 75, 79, 74, 76, 73, 74, 74, 72, 74, 74, 75, 78, 74, 74, 74, 77, 70, 73, 74, 73, 71, 75, 71, 72, 77, 74, 70, 77, 73, 72, 76, 71, 76, 78, 75, 73, 78, 74, 79, 75, 76, 72, 75, 75, 70, 72, 70, 74, 71, 76, 73, 76, 71, 69, 72, 72, 69, 73, 69, 73, 74, 74, 72, 71, 72, 72, 76, 76, 76, 74, 76, 75, 71, 72, 71, 73, 75, 76, 75, 71, 75, 74, 72, 73, 73, 73, 73, 76, 72, 76, 73, 73, 73, 75, 75, 77, 73, 72, 75, 70, 74, 72, 80, 71, 71, 74, 74, 73, 75, 76, 73, 77, 72, 73, 77, 76, 71, 75, 73, 74, 77, 71, 72, 73, 69, 73, 70, 74, 76, 73, 73, 75, 73, 79, 74, 73, 74, 77, 75, 74, 73, 77, 73, 77, 74, 74, 73, 77, 74, 77, 75, 77, 75, 71, 74, 70, 79, 72, 72, 70, 74, 74, 72, 73, 72, 74, 74, 76, 82, 74, 74, 70, 73, 73, 74, 77, 72, 76, 73, 73, 72, 74, 74, 71, 72, 75, 74, 74, 77, 70, 71, 73, 76, 71, 75, 74, 72, 76, 79, 76, 73, 76, 78, 75, 76, 72, 72, 73, 73, 75, 71, 76, 70, 75, 74, 75, 73, 71, 71, 72, 73, 73, 72, 69, 73, 78, 71, 73, 75, 76, 70, 74, 77, 75, 79, 72, 77, 73, 75, 75, 75, 73, 73, 76, 77, 75, 70, 71, 71, 75, 74, 69, 70, 75, 72, 75, 73, 72, 72, 72, 76, 75, 74, 69, 73, 72, 72, 75, 77, 76, 80, 77, 76, 79, 71, 75, 73, 76, 77, 73, 76, 70, 75, 73, 75, 70, 69, 71, 72, 72, 73, 70, 70, 73, 76, 75, 72, 73, 79, 71, 72, 74, 74, 74, 72, 76, 76, 72, 72, 71, 72, 72, 70, 77, 74, 72, 76, 71, 76, 71, 73, 70, 73, 73, 72, 71, 71, 71, 72, 72, 74, 74, 74, 71, 72, 75, 72, 71, 72, 72, 72, 72, 74, 74, 77, 75, 73, 75, 73, 76, 72, 77, 75, 72, 71, 71, 75, 72, 73, 73, 71, 70, 75, 71, 76, 73, 68, 71, 72, 74, 77, 72, 76, 78, 81, 72, 73, 76, 72, 72, 74, 76, 73, 76, 75, 70, 71, 74, 72, 73, 76, 76, 73, 71, 68, 71, 71, 74, 77, 69, 72, 76, 75, 76, 75, 76, 72, 74, 76, 74, 72, 75, 78, 77, 70, 72, 79, 74, 71, 68, 77, 75, 71, 72, 70, 72, 72, 73, 72, 74, 72, 72, 75, 72, 73, 74, 72, 78, 75, 72, 74, 75, 75, 76, 74, 74, 73, 74, 71, 74, 75, 76, 74, 76, 76, 73, 75, 75, 74, 68, 72, 75, 71, 70, 72, 73, 72, 75, 74, 70, 76, 71, 82, 72, 73, 74, 71, 75, 77, 72, 74, 72, 73, 78, 77, 73, 73, 73, 73, 73, 76, 75, 70, 73, 72, 73, 75, 74, 73, 73, 76, 73, 75, 70, 77, 72, 77, 74, 75, 75, 75, 75, 72, 74, 71, 76, 71, 75, 76, 83, 75, 74, 76, 72, 72, 75, 75, 72, 77, 73, 72, 70, 74, 72, 74, 72, 71, 70, 71, 76, 74, 76, 74, 74, 74, 75, 75, 71, 71, 74, 77, 71, 74, 75, 77, 76, 74, 76, 72, 71, 72, 75, 73, 68, 72, 69, 73, 73, 75, 70, 70, 74, 75, 74, 74, 73, 74, 75, 77, 73, 74, 76, 74, 75, 73, 76, 78, 75, 73, 77, 74, 72, 74, 72, 71, 73, 75, 73, 67, 67, 76, 74, 73, 70, 75, 70, 72, 77, 79, 78, 74, 75, 75, 78, 76, 75, 69, 75, 72, 75, 73, 74, 75, 75, 73]\n",
    "\n",
    "np_height = np.array(height)\n",
    "# print(np_height)\n",
    "\n",
    "# baseball is available as a regular list of lists\n",
    "baseball = [[74, 180], [74, 215], [72, 210], [72, 210], [73, 188], [69, 176], [69, 209], [71, 200], [76, 231], [71, 180], [73, 188], [73, 180], [74, 185], [74, 160], [69, 180], [70, 185], [73, 189], [75, 185], [78, 219], [79, 230], [76, 205], [74, 230], [76, 195], [72, 180], [71, 192], [75, 225], [77, 203], [74, 195], [73, 182], [74, 188], [78, 200], [73, 180], [75, 200], [73, 200], [75, 245], [75, 240], [74, 215], [69, 185], [71, 175], [74, 199], [73, 200], [73, 215], [76, 200], [74, 205], [74, 206], [70, 186], [72, 188], [77, 220], [74, 210], [70, 195], [73, 200], [75, 200], [76, 212], [76, 224], [78, 210], [74, 205], [74, 220], [76, 195], [77, 200], [81, 260], [78, 228], [75, 270], [77, 200], [75, 210], [76, 190], [74, 220], [72, 180], [72, 205], [75, 210], [73, 220], [73, 211], [73, 200], [70, 180], [70, 190], [70, 170], [76, 230], [68, 155], [71, 185], [72, 185], [75, 200], [75, 225], [75, 225], [75, 220], [68, 160], [74, 205], [78, 235], [71, 250], [73, 210], [76, 190], [74, 160], [74, 200], [79, 205], [75, 222], [73, 195], [76, 205], [74, 220], [74, 220], [73, 170], [72, 185], [74, 195], [73, 220], [74, 230], [72, 180], [73, 220], [69, 180], [72, 180], [73, 170], [75, 210], [75, 215], [73, 200], [72, 213], [72, 180], [76, 192], [74, 235], [72, 185], [77, 235], [74, 210], [77, 222], [75, 210], [76, 230], [80, 220], [74, 180], [74, 190], [75, 200], [78, 210], [73, 194], [73, 180], [74, 190], [75, 240], [76, 200], [71, 198], [73, 200], [74, 195], [76, 210], [76, 220], [74, 190], [73, 210], [74, 225], [70, 180], [72, 185], [73, 170], [73, 185], [73, 185], [73, 180], [71, 178], [74, 175], [74, 200], [72, 204], [74, 211], [71, 190], [74, 210], [73, 190], [75, 190], [75, 185], [79, 290], [73, 175], [75, 185], [76, 200], [74, 220], [76, 170], [78, 220], [74, 190], [76, 220], [72, 205], [74, 200], [76, 250], [74, 225], [75, 215], [78, 210], [75, 215], [72, 195], [74, 200], [72, 194], [74, 220], [70, 180], [71, 180], [70, 170], [75, 195], [71, 180], [71, 170], [73, 206], [72, 205], [71, 200], [73, 225], [72, 201], [75, 225], [74, 233], [74, 180], [75, 225], [73, 180], [77, 220], [73, 180], [76, 237], [75, 215], [74, 190], [76, 235], [75, 190], [73, 180], [71, 165], [76, 195], [75, 200], [72, 190], [71, 190], [77, 185], [73, 185], [74, 205], [71, 190], [72, 205], [74, 206], [75, 220], [73, 208], [72, 170], [75, 195], [75, 210], [74, 190], [72, 211], [74, 230], [71, 170], [70, 185], [74, 185], [77, 241], [77, 225], [75, 210], [75, 175], [78, 230], [75, 200], [76, 215], [73, 198], [75, 226], [75, 278], [79, 215], [77, 230], [76, 240], [71, 184], [75, 219], [74, 170], [69, 218], [71, 190], [76, 225], [72, 220], [72, 176], [70, 190], [72, 197], [73, 204], [71, 167], [72, 180], [71, 195], [73, 220], [72, 215], [73, 185], [74, 190], [74, 205], [72, 205], [75, 200], [74, 210], [74, 215], [77, 200], [75, 205], [73, 211], [72, 190], [71, 208], [74, 200], [77, 210], [75, 232], [75, 230], [75, 210], [78, 220], [78, 210], [74, 202], [76, 212], [78, 225], [76, 170], [70, 190], [72, 200], [80, 237], [74, 220], [74, 170], [71, 193], [70, 190], [72, 150], [71, 220], [74, 200], [71, 190], [72, 185], [71, 185], [74, 200], [69, 172], [76, 220], [75, 225], [75, 190], [76, 195], [73, 219], [76, 190], [73, 197], [77, 200], [73, 195], [72, 210], [72, 177], [77, 220], [77, 235], [71, 180], [74, 195], [74, 195], [73, 190], [78, 230], [75, 190], [73, 200], [70, 190], [74, 190], [72, 200], [73, 200], [73, 184], [75, 200], [75, 180], [74, 219], [76, 187], [73, 200], [74, 220], [75, 205], [75, 190], [72, 170], [73, 160], [73, 215], [72, 175], [74, 205], [78, 200], [76, 214], [73, 200], [74, 190], [75, 180], [70, 205], [75, 220], [71, 190], [72, 215], [78, 235], [75, 191], [73, 200], [73, 181], [71, 200], [75, 210], [77, 240], [72, 185], [69, 165], [73, 190], [74, 185], [72, 175], [70, 155], [75, 210], [70, 170], [72, 175], [72, 220], [74, 210], [73, 205], [74, 200], [76, 205], [75, 195], [80, 240], [72, 150], [75, 200], [73, 215], [74, 202], [74, 200], [73, 190], [75, 205], [75, 190], [71, 160], [73, 215], [75, 185], [74, 200], [74, 190], [72, 210], [74, 185], [74, 220], [74, 190], [73, 202], [76, 205], [75, 220], [72, 175], [73, 160], [73, 190], [73, 200], [72, 229], [72, 206], [72, 220], [72, 180], [71, 195], [75, 175], [75, 188], [74, 230], [73, 190], [75, 200], [79, 190], [74, 219], [76, 235], [73, 180], [74, 180], [74, 180], [72, 200], [74, 234], [74, 185], [75, 220], [78, 223], [74, 200], [74, 210], [74, 200], [77, 210], [70, 190], [73, 177], [74, 227], [73, 180], [71, 195], [75, 199], [71, 175], [72, 185], [77, 240], [74, 210], [70, 180], [77, 194], [73, 225], [72, 180], [76, 205], [71, 193], [76, 230], [78, 230], [75, 220], [73, 200], [78, 249], [74, 190], [79, 208], [75, 245], [76, 250], [72, 160], [75, 192], [75, 220], [70, 170], [72, 197], [70, 155], [74, 190], [71, 200], [76, 220], [73, 210], [76, 228], [71, 190], [69, 160], [72, 184], [72, 180], [69, 180], [73, 200], [69, 176], [73, 160], [74, 222], [74, 211], [72, 195], [71, 200], [72, 175], [72, 206], [76, 240], [76, 185], [76, 260], [74, 185], [76, 221], [75, 205], [71, 200], [72, 170], [71, 201], [73, 205], [75, 185], [76, 205], [75, 245], [71, 220], [75, 210], [74, 220], [72, 185], [73, 175], [73, 170], [73, 180], [73, 200], [76, 210], [72, 175], [76, 220], [73, 206], [73, 180], [73, 210], [75, 195], [75, 200], [77, 200], [73, 164], [72, 180], [75, 220], [70, 195], [74, 205], [72, 170], [80, 240], [71, 210], [71, 195], [74, 200], [74, 205], [73, 192], [75, 190], [76, 170], [73, 240], [77, 200], [72, 205], [73, 175], [77, 250], [76, 220], [71, 224], [75, 210], [73, 195], [74, 180], [77, 245], [71, 175], [72, 180], [73, 215], [69, 175], [73, 180], [70, 195], [74, 230], [76, 230], [73, 205], [73, 215], [75, 195], [73, 180], [79, 205], [74, 180], [73, 190], [74, 180], [77, 190], [75, 190], [74, 220], [73, 210], [77, 255], [73, 190], [77, 230], [74, 200], [74, 205], [73, 210], [77, 225], [74, 215], [77, 220], [75, 205], [77, 200], [75, 220], [71, 197], [74, 225], [70, 187], [79, 245], [72, 185], [72, 185], [70, 175], [74, 200], [74, 180], [72, 188], [73, 225], [72, 200], [74, 210], [74, 245], [76, 213], [82, 231], [74, 165], [74, 228], [70, 210], [73, 250], [73, 191], [74, 190], [77, 200], [72, 215], [76, 254], [73, 232], [73, 180], [72, 215], [74, 220], [74, 180], [71, 200], [72, 170], [75, 195], [74, 210], [74, 200], [77, 220], [70, 165], [71, 180], [73, 200], [76, 200], [71, 170], [75, 224], [74, 220], [72, 180], [76, 198], [79, 240], [76, 239], [73, 185], [76, 210], [78, 220], [75, 200], [76, 195], [72, 220], [72, 230], [73, 170], [73, 220], [75, 230], [71, 165], [76, 205], [70, 192], [75, 210], [74, 205], [75, 200], [73, 210], [71, 185], [71, 195], [72, 202], [73, 205], [73, 195], [72, 180], [69, 200], [73, 185], [78, 240], [71, 185], [73, 220], [75, 205], [76, 205], [70, 180], [74, 201], [77, 190], [75, 208], [79, 240], [72, 180], [77, 230], [73, 195], [75, 215], [75, 190], [75, 195], [73, 215], [73, 215], [76, 220], [77, 220], [75, 230], [70, 195], [71, 190], [71, 195], [75, 209], [74, 204], [69, 170], [70, 185], [75, 205], [72, 175], [75, 210], [73, 190], [72, 180], [72, 180], [72, 160], [76, 235], [75, 200], [74, 210], [69, 180], [73, 190], [72, 197], [72, 203], [75, 205], [77, 170], [76, 200], [80, 250], [77, 200], [76, 220], [79, 200], [71, 190], [75, 170], [73, 190], [76, 220], [77, 215], [73, 206], [76, 215], [70, 185], [75, 235], [73, 188], [75, 230], [70, 195], [69, 168], [71, 190], [72, 160], [72, 200], [73, 200], [70, 189], [70, 180], [73, 190], [76, 200], [75, 220], [72, 187], [73, 240], [79, 190], [71, 180], [72, 185], [74, 210], [74, 220], [74, 219], [72, 190], [76, 193], [76, 175], [72, 180], [72, 215], [71, 210], [72, 200], [72, 190], [70, 185], [77, 220], [74, 170], [72, 195], [76, 205], [71, 195], [76, 210], [71, 190], [73, 190], [70, 180], [73, 220], [73, 190], [72, 186], [71, 185], [71, 190], [71, 180], [72, 190], [72, 170], [74, 210], [74, 240], [74, 220], [71, 180], [72, 210], [75, 210], [72, 195], [71, 160], [72, 180], [72, 205], [72, 200], [72, 185], [74, 245], [74, 190], [77, 210], [75, 200], [73, 200], [75, 222], [73, 215], [76, 240], [72, 170], [77, 220], [75, 156], [72, 190], [71, 202], [71, 221], [75, 200], [72, 190], [73, 210], [73, 190], [71, 200], [70, 165], [75, 190], [71, 185], [76, 230], [73, 208], [68, 209], [71, 175], [72, 180], [74, 200], [77, 205], [72, 200], [76, 250], [78, 210], [81, 230], [72, 244], [73, 202], [76, 240], [72, 200], [72, 215], [74, 177], [76, 210], [73, 170], [76, 215], [75, 217], [70, 198], [71, 200], [74, 220], [72, 170], [73, 200], [76, 230], [76, 231], [73, 183], [71, 192], [68, 167], [71, 190], [71, 180], [74, 180], [77, 215], [69, 160], [72, 205], [76, 223], [75, 175], [76, 170], [75, 190], [76, 240], [72, 175], [74, 230], [76, 223], [74, 196], [72, 167], [75, 195], [78, 190], [77, 250], [70, 190], [72, 190], [79, 190], [74, 170], [71, 160], [68, 150], [77, 225], [75, 220], [71, 209], [72, 210], [70, 176], [72, 260], [72, 195], [73, 190], [72, 184], [74, 180], [72, 195], [72, 195], [75, 219], [72, 225], [73, 212], [74, 202], [72, 185], [78, 200], [75, 209], [72, 200], [74, 195], [75, 228], [75, 210], [76, 190], [74, 212], [74, 190], [73, 218], [74, 220], [71, 190], [74, 235], [75, 210], [76, 200], [74, 188], [76, 210], [76, 235], [73, 188], [75, 215], [75, 216], [74, 220], [68, 180], [72, 185], [75, 200], [71, 210], [70, 220], [72, 185], [73, 231], [72, 210], [75, 195], [74, 200], [70, 205], [76, 200], [71, 190], [82, 250], [72, 185], [73, 180], [74, 170], [71, 180], [75, 208], [77, 235], [72, 215], [74, 244], [72, 220], [73, 185], [78, 230], [77, 190], [73, 200], [73, 180], [73, 190], [73, 196], [73, 180], [76, 230], [75, 224], [70, 160], [73, 178], [72, 205], [73, 185], [75, 210], [74, 180], [73, 190], [73, 200], [76, 257], [73, 190], [75, 220], [70, 165], [77, 205], [72, 200], [77, 208], [74, 185], [75, 215], [75, 170], [75, 235], [75, 210], [72, 170], [74, 180], [71, 170], [76, 190], [71, 150], [75, 230], [76, 203], [83, 260], [75, 246], [74, 186], [76, 210], [72, 198], [72, 210], [75, 215], [75, 180], [72, 200], [77, 245], [73, 200], [72, 192], [70, 192], [74, 200], [72, 192], [74, 205], [72, 190], [71, 186], [70, 170], [71, 197], [76, 219], [74, 200], [76, 220], [74, 207], [74, 225], [74, 207], [75, 212], [75, 225], [71, 170], [71, 190], [74, 210], [77, 230], [71, 210], [74, 200], [75, 238], [77, 234], [76, 222], [74, 200], [76, 190], [72, 170], [71, 220], [72, 223], [75, 210], [73, 215], [68, 196], [72, 175], [69, 175], [73, 189], [73, 205], [75, 210], [70, 180], [70, 180], [74, 197], [75, 220], [74, 228], [74, 190], [73, 204], [74, 165], [75, 216], [77, 220], [73, 208], [74, 210], [76, 215], [74, 195], [75, 200], [73, 215], [76, 229], [78, 240], [75, 207], [73, 205], [77, 208], [74, 185], [72, 190], [74, 170], [72, 208], [71, 225], [73, 190], [75, 225], [73, 185], [67, 180], [67, 165], [76, 240], [74, 220], [73, 212], [70, 163], [75, 215], [70, 175], [72, 205], [77, 210], [79, 205], [78, 208], [74, 215], [75, 180], [75, 200], [78, 230], [76, 211], [75, 230], [69, 190], [75, 220], [72, 180], [75, 205], [73, 190], [74, 180], [75, 205], [75, 190], [73, 195]]\n",
    "\n",
    "# Create np_baseball (2 cols)\n",
    "np_baseball = np.array(baseball)\n",
    "# print(np_baseball)"
   ]
  },
  {
   "cell_type": "code",
   "execution_count": 7,
   "metadata": {},
   "outputs": [
    {
     "name": "stdout",
     "output_type": "stream",
     "text": [
      "74 inches74 inches72 inches72 inches73 inches69 inches69 inches71 inches76 inches71 inches73 inches73 inches74 inches74 inches69 inches70 inches73 inches75 inches78 inches79 inches76 inches74 inches76 inches72 inches71 inches75 inches77 inches74 inches73 inches74 inches78 inches73 inches75 inches73 inches75 inches75 inches74 inches69 inches71 inches74 inches73 inches73 inches76 inches74 inches74 inches70 inches72 inches77 inches74 inches70 inches73 inches75 inches76 inches76 inches78 inches74 inches74 inches76 inches77 inches81 inches78 inches75 inches77 inches75 inches76 inches74 inches72 inches72 inches75 inches73 inches73 inches73 inches70 inches70 inches70 inches76 inches68 inches71 inches72 inches75 inches75 inches75 inches75 inches68 inches74 inches78 inches71 inches73 inches76 inches74 inches74 inches79 inches75 inches73 inches76 inches74 inches74 inches73 inches72 inches74 inches73 inches74 inches72 inches73 inches69 inches72 inches73 inches75 inches75 inches73 inches72 inches72 inches76 inches74 inches72 inches77 inches74 inches77 inches75 inches76 inches80 inches74 inches74 inches75 inches78 inches73 inches73 inches74 inches75 inches76 inches71 inches73 inches74 inches76 inches76 inches74 inches73 inches74 inches70 inches72 inches73 inches73 inches73 inches73 inches71 inches74 inches74 inches72 inches74 inches71 inches74 inches73 inches75 inches75 inches79 inches73 inches75 inches76 inches74 inches76 inches78 inches74 inches76 inches72 inches74 inches76 inches74 inches75 inches78 inches75 inches72 inches74 inches72 inches74 inches70 inches71 inches70 inches75 inches71 inches71 inches73 inches72 inches71 inches73 inches72 inches75 inches74 inches74 inches75 inches73 inches77 inches73 inches76 inches75 inches74 inches76 inches75 inches73 inches71 inches76 inches75 inches72 inches71 inches77 inches73 inches74 inches71 inches72 inches74 inches75 inches73 inches72 inches75 inches75 inches74 inches72 inches74 inches71 inches70 inches74 inches77 inches77 inches75 inches75 inches78 inches75 inches76 inches73 inches75 inches75 inches79 inches77 inches76 inches71 inches75 inches74 inches69 inches71 inches76 inches72 inches72 inches70 inches72 inches73 inches71 inches72 inches71 inches73 inches72 inches73 inches74 inches74 inches72 inches75 inches74 inches74 inches77 inches75 inches73 inches72 inches71 inches74 inches77 inches75 inches75 inches75 inches78 inches78 inches74 inches76 inches78 inches76 inches70 inches72 inches80 inches74 inches74 inches71 inches70 inches72 inches71 inches74 inches71 inches72 inches71 inches74 inches69 inches76 inches75 inches75 inches76 inches73 inches76 inches73 inches77 inches73 inches72 inches72 inches77 inches77 inches71 inches74 inches74 inches73 inches78 inches75 inches73 inches70 inches74 inches72 inches73 inches73 inches75 inches75 inches74 inches76 inches73 inches74 inches75 inches75 inches72 inches73 inches73 inches72 inches74 inches78 inches76 inches73 inches74 inches75 inches70 inches75 inches71 inches72 inches78 inches75 inches73 inches73 inches71 inches75 inches77 inches72 inches69 inches73 inches74 inches72 inches70 inches75 inches70 inches72 inches72 inches74 inches73 inches74 inches76 inches75 inches80 inches72 inches75 inches73 inches74 inches74 inches73 inches75 inches75 inches71 inches73 inches75 inches74 inches74 inches72 inches74 inches74 inches74 inches73 inches76 inches75 inches72 inches73 inches73 inches73 inches72 inches72 inches72 inches72 inches71 inches75 inches75 inches74 inches73 inches75 inches79 inches74 inches76 inches73 inches74 inches74 inches72 inches74 inches74 inches75 inches78 inches74 inches74 inches74 inches77 inches70 inches73 inches74 inches73 inches71 inches75 inches71 inches72 inches77 inches74 inches70 inches77 inches73 inches72 inches76 inches71 inches76 inches78 inches75 inches73 inches78 inches74 inches79 inches75 inches76 inches72 inches75 inches75 inches70 inches72 inches70 inches74 inches71 inches76 inches73 inches76 inches71 inches69 inches72 inches72 inches69 inches73 inches69 inches73 inches74 inches74 inches72 inches71 inches72 inches72 inches76 inches76 inches76 inches74 inches76 inches75 inches71 inches72 inches71 inches73 inches75 inches76 inches75 inches71 inches75 inches74 inches72 inches73 inches73 inches73 inches73 inches76 inches72 inches76 inches73 inches73 inches73 inches75 inches75 inches77 inches73 inches72 inches75 inches70 inches74 inches72 inches80 inches71 inches71 inches74 inches74 inches73 inches75 inches76 inches73 inches77 inches72 inches73 inches77 inches76 inches71 inches75 inches73 inches74 inches77 inches71 inches72 inches73 inches69 inches73 inches70 inches74 inches76 inches73 inches73 inches75 inches73 inches79 inches74 inches73 inches74 inches77 inches75 inches74 inches73 inches77 inches73 inches77 inches74 inches74 inches73 inches77 inches74 inches77 inches75 inches77 inches75 inches71 inches74 inches70 inches79 inches72 inches72 inches70 inches74 inches74 inches72 inches73 inches72 inches74 inches74 inches76 inches82 inches74 inches74 inches70 inches73 inches73 inches74 inches77 inches72 inches76 inches73 inches73 inches72 inches74 inches74 inches71 inches72 inches75 inches74 inches74 inches77 inches70 inches71 inches73 inches76 inches71 inches75 inches74 inches72 inches76 inches79 inches76 inches73 inches76 inches78 inches75 inches76 inches72 inches72 inches73 inches73 inches75 inches71 inches76 inches70 inches75 inches74 inches75 inches73 inches71 inches71 inches72 inches73 inches73 inches72 inches69 inches73 inches78 inches71 inches73 inches75 inches76 inches70 inches74 inches77 inches75 inches79 inches72 inches77 inches73 inches75 inches75 inches75 inches73 inches73 inches76 inches77 inches75 inches70 inches71 inches71 inches75 inches74 inches69 inches70 inches75 inches72 inches75 inches73 inches72 inches72 inches72 inches76 inches75 inches74 inches69 inches73 inches72 inches72 inches75 inches77 inches76 inches80 inches77 inches76 inches79 inches71 inches75 inches73 inches76 inches77 inches73 inches76 inches70 inches75 inches73 inches75 inches70 inches69 inches71 inches72 inches72 inches73 inches70 inches70 inches73 inches76 inches75 inches72 inches73 inches79 inches71 inches72 inches74 inches74 inches74 inches72 inches76 inches76 inches72 inches72 inches71 inches72 inches72 inches70 inches77 inches74 inches72 inches76 inches71 inches76 inches71 inches73 inches70 inches73 inches73 inches72 inches71 inches71 inches71 inches72 inches72 inches74 inches74 inches74 inches71 inches72 inches75 inches72 inches71 inches72 inches72 inches72 inches72 inches74 inches74 inches77 inches75 inches73 inches75 inches73 inches76 inches72 inches77 inches75 inches72 inches71 inches71 inches75 inches72 inches73 inches73 inches71 inches70 inches75 inches71 inches76 inches73 inches68 inches71 inches72 inches74 inches77 inches72 inches76 inches78 inches81 inches72 inches73 inches76 inches72 inches72 inches74 inches76 inches73 inches76 inches75 inches70 inches71 inches74 inches72 inches73 inches76 inches76 inches73 inches71 inches68 inches71 inches71 inches74 inches77 inches69 inches72 inches76 inches75 inches76 inches75 inches76 inches72 inches74 inches76 inches74 inches72 inches75 inches78 inches77 inches70 inches72 inches79 inches74 inches71 inches68 inches77 inches75 inches71 inches72 inches70 inches72 inches72 inches73 inches72 inches74 inches72 inches72 inches75 inches72 inches73 inches74 inches72 inches78 inches75 inches72 inches74 inches75 inches75 inches76 inches74 inches74 inches73 inches74 inches71 inches74 inches75 inches76 inches74 inches76 inches76 inches73 inches75 inches75 inches74 inches68 inches72 inches75 inches71 inches70 inches72 inches73 inches72 inches75 inches74 inches70 inches76 inches71 inches82 inches72 inches73 inches74 inches71 inches75 inches77 inches72 inches74 inches72 inches73 inches78 inches77 inches73 inches73 inches73 inches73 inches73 inches76 inches75 inches70 inches73 inches72 inches73 inches75 inches74 inches73 inches73 inches76 inches73 inches75 inches70 inches77 inches72 inches77 inches74 inches75 inches75 inches75 inches75 inches72 inches74 inches71 inches76 inches71 inches75 inches76 inches83 inches75 inches74 inches76 inches72 inches72 inches75 inches75 inches72 inches77 inches73 inches72 inches70 inches74 inches72 inches74 inches72 inches71 inches70 inches71 inches76 inches74 inches76 inches74 inches74 inches74 inches75 inches75 inches71 inches71 inches74 inches77 inches71 inches74 inches75 inches77 inches76 inches74 inches76 inches72 inches71 inches72 inches75 inches73 inches68 inches72 inches69 inches73 inches73 inches75 inches70 inches70 inches74 inches75 inches74 inches74 inches73 inches74 inches75 inches77 inches73 inches74 inches76 inches74 inches75 inches73 inches76 inches78 inches75 inches73 inches77 inches74 inches72 inches74 inches72 inches71 inches73 inches75 inches73 inches67 inches67 inches76 inches74 inches73 inches70 inches75 inches70 inches72 inches77 inches79 inches78 inches74 inches75 inches75 inches78 inches76 inches75 inches69 inches75 inches72 inches75 inches73 inches74 inches75 inches75 inches73 inches74180742157221072210731886917669209712007623171180731887318074185741606918070185731897518578219792307620574230761957218071192752257720374195731827418878200731807520073200752457524074215691857117574199732007321576200742057420670186721887722074210701957320075200762127622478210742057422076195772008126078228752707720075210761907422072180722057521073220732117320070180701907017076230681557118572185752007522575225752206816074205782357125073210761907416074200792057522273195762057422074220731707218574195732207423072180732206918072180731707521075215732007221372180761927423572185772357421077222752107623080220741807419075200782107319473180741907524076200711987320074195762107622074190732107422570180721857317073185731857318071178741757420072204742117119074210731907519075185792907317575185762007422076170782207419076220722057420076250742257521578210752157219574200721947422070180711807017075195711807117073206722057120073225722017522574233741807522573180772207318076237752157419076235751907318071165761957520072190711907718573185742057119072205742067522073208721707519575210741907221174230711707018574185772417722575210751757823075200762157319875226752787921577230762407118475219741706921871190762257222072176701907219773204711677218071195732207221573185741907420572205752007421074215772007520573211721907120874200772107523275230752107822078210742027621278225761707019072200802377422074170711937019072150712207420071190721857118574200691727622075225751907619573219761907319777200731957221072177772207723571180741957419573190782307519073200701907419072200732007318475200751807421976187732007422075205751907217073160732157217574205782007621473200741907518070205752207119072215782357519173200731817120075210772407218569165731907418572175701557521070170721757222074210732057420076205751958024072150752007321574202742007319075205751907116073215751857420074190722107418574220741907320276205752207217573160731907320072229722067222072180711957517575188742307319075200791907421976235731807418074180722007423474185752207822374200742107420077210701907317774227731807119575199711757218577240742107018077194732257218076205711937623078230752207320078249741907920875245762507216075192752207017072197701557419071200762207321076228711906916072184721806918073200691767316074222742117219571200721757220676240761857626074185762217520571200721707120173205751857620575245712207521074220721857317573170731807320076210721757622073206731807321075195752007720073164721807522070195742057217080240712107119574200742057319275190761707324077200722057317577250762207122475210731957418077245711757218073215691757318070195742307623073205732157519573180792057418073190741807719075190742207321077255731907723074200742057321077225742157722075205772007522071197742257018779245721857218570175742007418072188732257220074210742457621382231741657422870210732507319174190772007221576254732327318072215742207418071200721707519574210742007722070165711807320076200711707522474220721807619879240762397318576210782207520076195722207223073170732207523071165762057019275210742057520073210711857119572202732057319572180692007318578240711857322075205762057018074201771907520879240721807723073195752157519075195732157321576220772207523070195711907119575209742046917070185752057217575210731907218072180721607623575200742106918073190721977220375205771707620080250772007622079200711907517073190762207721573206762157018575235731887523070195691687119072160722007320070189701807319076200752207218773240791907118072185742107422074219721907619376175721807221571210722007219070185772207417072195762057119576210711907319070180732207319072186711857119071180721907217074210742407422071180722107521072195711607218072205722007218574245741907721075200732007522273215762407217077220751567219071202712217520072190732107319071200701657519071185762307320868209711757218074200772057220076250782108123072244732027624072200722157417776210731707621575217701987120074220721707320076230762317318371192681677119071180741807721569160722057622375175761707519076240721757423076223741967216775195781907725070190721907919074170711606815077225752207120972210701767226072195731907218474180721957219575219722257321274202721857820075209722007419575228752107619074212741907321874220711907423575210762007418876210762357318875215752167422068180721857520071210702207218573231722107519574200702057620071190822507218573180741707118075208772357221574244722207318578230771907320073180731907319673180762307522470160731787220573185752107418073190732007625773190752207016577205722007720874185752157517075235752107217074180711707619071150752307620383260752467418676210721987221075215751807220077245732007219270192742007219274205721907118670170711977621974200762207420774225742077521275225711707119074210772307121074200752387723476222742007619072170712207222375210732156819672175691757318973205752107018070180741977522074228741907320474165752167722073208742107621574195752007321576229782407520773205772087418572190741707220871225731907522573185671806716576240742207321270163752157017572205772107920578208742157518075200782307621175230691907522072180752057319074180752057519073195"
     ]
    }
   ],
   "source": [
    "# Import numpy as np\n",
    "import numpy as np\n",
    "\n",
    "# For loop over np_height\n",
    "for x in np_height:\n",
    "    print(str(x) + \" inches\", end = '')\n",
    "\n",
    "# For loop over np_baseball\n",
    "for x in np.nditer(np_baseball):\n",
    "    print(str(x), end = '')"
   ]
  },
  {
   "cell_type": "code",
   "execution_count": 11,
   "metadata": {},
   "outputs": [
    {
     "name": "stdout",
     "output_type": "stream",
     "text": [
      "US\n",
      "cars_per_cap              809\n",
      "country         United States\n",
      "drives_right             True\n",
      "Name: US, dtype: object\n",
      "AUS\n",
      "cars_per_cap          731\n",
      "country         Australia\n",
      "drives_right        False\n",
      "Name: AUS, dtype: object\n",
      "JAP\n",
      "cars_per_cap      588\n",
      "country         Japan\n",
      "drives_right    False\n",
      "Name: JAP, dtype: object\n",
      "IN\n",
      "cars_per_cap       18\n",
      "country         India\n",
      "drives_right    False\n",
      "Name: IN, dtype: object\n",
      "RU\n",
      "cars_per_cap       200\n",
      "country         Russia\n",
      "drives_right      True\n",
      "Name: RU, dtype: object\n",
      "MOR\n",
      "cars_per_cap         70\n",
      "country         Morocco\n",
      "drives_right       True\n",
      "Name: MOR, dtype: object\n",
      "EG\n",
      "cars_per_cap       45\n",
      "country         Egypt\n",
      "drives_right     True\n",
      "Name: EG, dtype: object\n"
     ]
    }
   ],
   "source": [
    "# Import cars data\n",
    "import pandas as pd\n",
    "cars = pd.read_csv('input/cars.csv', index_col = 0)\n",
    "\n",
    "# Iterate over rows of cars\n",
    "for lab, row in cars.iterrows():\n",
    "    print(lab)\n",
    "    print(row)"
   ]
  },
  {
   "cell_type": "code",
   "execution_count": 12,
   "metadata": {},
   "outputs": [
    {
     "name": "stdout",
     "output_type": "stream",
     "text": [
      "US: 809\n",
      "AUS: 731\n",
      "JAP: 588\n",
      "IN: 18\n",
      "RU: 200\n",
      "MOR: 70\n",
      "EG: 45\n"
     ]
    }
   ],
   "source": [
    "# Adapt for loop\n",
    "for lab, row in cars.iterrows() :\n",
    "    print(lab + \": \" + str(row['cars_per_cap']))\n",
    "    "
   ]
  },
  {
   "cell_type": "code",
   "execution_count": 14,
   "metadata": {},
   "outputs": [
    {
     "name": "stdout",
     "output_type": "stream",
     "text": [
      "     cars_per_cap        country  drives_right        COUNTRY\n",
      "US            809  United States          True  UNITED STATES\n",
      "AUS           731      Australia         False      AUSTRALIA\n",
      "JAP           588          Japan         False          JAPAN\n",
      "IN             18          India         False          INDIA\n",
      "RU            200         Russia          True         RUSSIA\n",
      "MOR            70        Morocco          True        MOROCCO\n",
      "EG             45          Egypt          True          EGYPT\n"
     ]
    }
   ],
   "source": [
    "# Code for loop that adds COUNTRY column\n",
    "for lab, row in cars.iterrows():\n",
    "    cars.loc[lab, \"COUNTRY\"] = row[\"country\"].upper()\n",
    "\n",
    "\n",
    "# Print cars\n",
    "print(cars)"
   ]
  },
  {
   "cell_type": "code",
   "execution_count": 15,
   "metadata": {},
   "outputs": [
    {
     "name": "stdout",
     "output_type": "stream",
     "text": [
      "     cars_per_cap        country  drives_right        COUNTRY       COUNTRY2\n",
      "US            809  United States          True  UNITED STATES  UNITED STATES\n",
      "AUS           731      Australia         False      AUSTRALIA      AUSTRALIA\n",
      "JAP           588          Japan         False          JAPAN          JAPAN\n",
      "IN             18          India         False          INDIA          INDIA\n",
      "RU            200         Russia          True         RUSSIA         RUSSIA\n",
      "MOR            70        Morocco          True        MOROCCO        MOROCCO\n",
      "EG             45          Egypt          True          EGYPT          EGYPT\n"
     ]
    }
   ],
   "source": [
    "# Use .apply(str.upper)\n",
    "cars[\"COUNTRY2\"] = cars[\"country\"].apply(str.upper)\n",
    "print(cars)"
   ]
  },
  {
   "cell_type": "code",
   "execution_count": null,
   "metadata": {},
   "outputs": [],
   "source": []
  }
 ],
 "metadata": {
  "kernelspec": {
   "display_name": "Python 3",
   "language": "python",
   "name": "python3"
  },
  "language_info": {
   "codemirror_mode": {
    "name": "ipython",
    "version": 3
   },
   "file_extension": ".py",
   "mimetype": "text/x-python",
   "name": "python",
   "nbconvert_exporter": "python",
   "pygments_lexer": "ipython3",
   "version": "3.6.1"
  }
 },
 "nbformat": 4,
 "nbformat_minor": 2
}
